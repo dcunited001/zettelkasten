{
 "cells": [
  {
   "cell_type": "markdown",
   "id": "e358c354-9242-4863-bb0b-266abb9a8b62",
   "metadata": {},
   "source": [
    "# Sitemap Analysis\n",
    "\n",
    "+ [Content Analysis with XML Sitemaps and Python](https://www.semrush.com/blog/content-analysis-xml-sitemaps-python/)\n",
    "+ [Analyze and visualize URLs with Network Graph](https://towardsdatascience.com/analyze-and-visualize-urls-with-network-graph-ee3ad5338b69)"
   ]
  },
  {
   "cell_type": "code",
   "execution_count": null,
   "id": "9bea144a-62da-4fe4-80a6-bfaa909f48e5",
   "metadata": {},
   "outputs": [],
   "source": [
    "# Python3 ipykernel\n",
    "!pip install advertools polars plotly"
   ]
  },
  {
   "cell_type": "code",
   "execution_count": null,
   "id": "43819bcf-64e8-4718-8f6f-427a970736b4",
   "metadata": {
    "scrolled": true
   },
   "outputs": [],
   "source": [
    "!pip install yarl graphistry[bolt,gremlin,nodexl,igraph,networkx] \n"
   ]
  },
  {
   "cell_type": "code",
   "execution_count": 5,
   "id": "bcbafae5-0d46-408e-8b6c-61df8cd2a3ca",
   "metadata": {},
   "outputs": [
    {
     "name": "stdout",
     "output_type": "stream",
     "text": [
      "/data/org/roam/slips\n"
     ]
    }
   ],
   "source": [
    "!pwd"
   ]
  },
  {
   "cell_type": "code",
   "execution_count": 169,
   "id": "2e55d28a-2878-4ac8-be6f-dbc46d0a8ef9",
   "metadata": {},
   "outputs": [],
   "source": [
    "import advertools as adv\n",
    "import plotly.graph_objects as go\n",
    "import polars as pl\n",
    "import pandas as pd\n",
    "import numpy as np\n",
    "import re"
   ]
  },
  {
   "cell_type": "code",
   "execution_count": 19,
   "id": "7efffae0-d3ce-4ba7-a404-ae923ecedadd",
   "metadata": {},
   "outputs": [],
   "source": [
    "_DATA=\"/data/mr/sitemap/data\"\n",
    "_SITEMAPS=f'{_DATA}/mkr_curled.json'"
   ]
  },
  {
   "cell_type": "markdown",
   "id": "e65de6a9-957f-4002-b33d-af13a129cd0a",
   "metadata": {},
   "source": [
    "# Makerspace List\n",
    "\n",
    "## Read JSON into dataframe"
   ]
  },
  {
   "cell_type": "code",
   "execution_count": 36,
   "id": "026229a3-07ba-4ccf-a446-22f11a2810dd",
   "metadata": {},
   "outputs": [],
   "source": [
    "\n",
    "# TEST_SITEMAP=\"https://www.nova-labs.org/sitemap.xml\"\n",
    "# nova_siteindex=adv.sitemap_to_df(TEST_SITEMAP)\n",
    "\n",
    "sitemaps_json=pl.read_json(_SITEMAPS,\n",
    "                           schema={\n",
    "                              'id': pl.Utf8, \n",
    "                              'http': pl.Utf8,\n",
    "                              'redirect': pl.Utf8,\n",
    "                              \"mmap_eventname\": pl.Utf8,\n",
    "                              \"mmap_url\": pl.Utf8,\n",
    "                              \"mmap_city\": pl.Utf8,\n",
    "                              \"mmap_state\": pl.Utf8,\n",
    "                              \"mmap_country\": pl.Utf8,\n",
    "                              \"mmap_zip\": pl.Utf8,\n",
    "                              \"mmap_lat\": pl.Float32,\n",
    "                              \"mmap_lng\": pl.Float32}) \\\n",
    "    .with_columns(\n",
    "        [(pl.col('id').cast(pl.Int16).alias('id')),\n",
    "         (pl.col('http').cast(pl.Int16).alias('http'))])\n"
   ]
  },
  {
   "cell_type": "code",
   "execution_count": 61,
   "id": "4185a599-b237-43ed-9e5a-d624b30aef49",
   "metadata": {},
   "outputs": [],
   "source": [
    "offline405 = sitemaps_json.filter(pl.col('http') > 404)\n",
    "offline404 = sitemaps_json.filter(pl.col('http') == 404)\n",
    "offline403 = sitemaps_json.filter(pl.col('http') == 403)\n",
    "offline402 = sitemaps_json.filter(pl.col('http') == 402)\n",
    "offline401 = sitemaps_json.filter(pl.col('http') == 401)\n",
    "\n",
    "redirect = sitemaps_json.filter(pl.col('http') >= 300, pl.col('http') < 400) # \"redirect\"\n",
    "success = sitemaps_json.filter(pl.col('http') >= 200, pl.col('http') < 300) # \"success\"\n",
    "# continue\n",
    "other = sitemaps_json.filter(pl.col('http') < 100) # \"dns\"\n",
    "\n",
    "# np.shape([offline.to_numpy(),redirect.to_numpy()])\n",
    "\n",
    "\n"
   ]
  },
  {
   "cell_type": "code",
   "execution_count": 66,
   "id": "d4abb359-d9c2-4a60-b98b-329c31c03f13",
   "metadata": {},
   "outputs": [
    {
     "data": {
      "text/plain": [
       "[('20X', (53, 11)),\n",
       " ('30X', (85, 11)),\n",
       " ('401', (0, 11)),\n",
       " ('402', (0, 11)),\n",
       " ('403', (1, 11)),\n",
       " ('404', (41, 11)),\n",
       " ('405', (2, 11))]"
      ]
     },
     "execution_count": 66,
     "metadata": {},
     "output_type": "execute_result"
    }
   ],
   "source": [
    "list(zip([\"20X\", \"30X\",\"401\",\"402\",\"403\",\"404\",\"405\"],\n",
    "     map(np.shape, [success.to_numpy(), \n",
    "                    redirect.to_numpy()\n",
    "                    ,offline401.to_numpy()\n",
    "                    ,offline402.to_numpy()\n",
    "                    ,offline403.to_numpy()\n",
    "                    ,offline404.to_numpy()\n",
    "                    ,offline405.to_numpy()])))"
   ]
  },
  {
   "cell_type": "code",
   "execution_count": 82,
   "id": "aa6e0978-ee6b-4587-9b2d-fbfdfd7c43c2",
   "metadata": {
    "scrolled": true
   },
   "outputs": [
    {
     "data": {
      "text/html": [
       "<div><style>\n",
       ".dataframe > thead > tr,\n",
       ".dataframe > tbody > tr {\n",
       "  text-align: right;\n",
       "  white-space: pre-wrap;\n",
       "}\n",
       "</style>\n",
       "<small>shape: (138, 5)</small><table border=\"1\" class=\"dataframe\"><thead><tr><th>id</th><th>http</th><th>mmap_eventname</th><th>mmap_url</th><th>redirect</th></tr><tr><td>i16</td><td>i16</td><td>str</td><td>str</td><td>str</td></tr></thead><tbody><tr><td>4401</td><td>200</td><td>&quot;Procrastinatio…</td><td>&quot;https://www.my…</td><td>&quot;&quot;</td></tr><tr><td>4397</td><td>200</td><td>&quot;Minnesota Cent…</td><td>&quot;https://www.mn…</td><td>&quot;&quot;</td></tr><tr><td>4388</td><td>301</td><td>&quot;FUSE Makerspac…</td><td>&quot;https://www.fu…</td><td>&quot;https://www.fu…</td></tr><tr><td>4387</td><td>301</td><td>&quot;FirstBuild&quot;</td><td>&quot;https://www.fi…</td><td>&quot;https://firstb…</td></tr><tr><td>4380</td><td>200</td><td>&quot;Valley Makers …</td><td>&quot;Https://www.va…</td><td>&quot;&quot;</td></tr><tr><td>4379</td><td>200</td><td>&quot;MakerFX Makers…</td><td>&quot;https://www.ma…</td><td>&quot;&quot;</td></tr><tr><td>4376</td><td>301</td><td>&quot;The Hub&quot;</td><td>&quot;https://www.gr…</td><td>&quot;https://www.gr…</td></tr><tr><td>4370</td><td>301</td><td>&quot;MPL Makerspace…</td><td>&quot;https://eols.o…</td><td>&quot;https://eols.o…</td></tr><tr><td>4368</td><td>301</td><td>&quot;FLC Innovation…</td><td>&quot;https://flcinn…</td><td>&quot;https://www.fl…</td></tr><tr><td>4364</td><td>301</td><td>&quot;Georgia Cyber …</td><td>&quot;https://www.ga…</td><td>&quot;https://www.ga…</td></tr><tr><td>4363</td><td>200</td><td>&quot;The WorcShop&quot;</td><td>&quot;https://www.th…</td><td>&quot;&quot;</td></tr><tr><td>4362</td><td>301</td><td>&quot;The Facility M…</td><td>&quot;https://facili…</td><td>&quot;https://facili…</td></tr><tr><td>&hellip;</td><td>&hellip;</td><td>&hellip;</td><td>&hellip;</td><td>&hellip;</td></tr><tr><td>3384</td><td>301</td><td>&quot;The Crucible&quot;</td><td>&quot;https://www.th…</td><td>&quot;https://www.th…</td></tr><tr><td>3377</td><td>200</td><td>&quot;River City Lab…</td><td>&quot;https://riverc…</td><td>&quot;&quot;</td></tr><tr><td>3357</td><td>200</td><td>&quot;Makerspace of …</td><td>&quot;https://www.Ma…</td><td>&quot;&quot;</td></tr><tr><td>3354</td><td>200</td><td>&quot;UCA Makerspace…</td><td>&quot;https://www.ar…</td><td>&quot;&quot;</td></tr><tr><td>3352</td><td>200</td><td>&quot;Pioneer Maker …</td><td>&quot;https://uwplat…</td><td>&quot;&quot;</td></tr><tr><td>3340</td><td>200</td><td>&quot;Newtown Makers…</td><td>&quot;https://newtow…</td><td>&quot;&quot;</td></tr><tr><td>3339</td><td>301</td><td>&quot;CodeCubbies&quot;</td><td>&quot;https://CodeCu…</td><td>&quot;https://codecu…</td></tr><tr><td>3337</td><td>301</td><td>&quot;Cherokee Maker…</td><td>&quot;https://cherok…</td><td>&quot;https://www.ch…</td></tr><tr><td>3333</td><td>200</td><td>&quot;CREATE&quot;</td><td>&quot;https://k5crea…</td><td>&quot;&quot;</td></tr><tr><td>3316</td><td>301</td><td>&quot;Lacey MakerSpa…</td><td>&quot;https://www.la…</td><td>&quot;https://laceym…</td></tr><tr><td>3308</td><td>301</td><td>&quot;Bainbridge Art…</td><td>&quot;https://bainbr…</td><td>&quot;https://bainbr…</td></tr><tr><td>3304</td><td>200</td><td>&quot;510 Art Lab&quot;</td><td>&quot;https://www.51…</td><td>&quot;&quot;</td></tr></tbody></table></div>"
      ],
      "text/plain": [
       "shape: (138, 5)\n",
       "┌──────┬──────┬────────────────────────────┬───────────────────────────┬───────────────────────────┐\n",
       "│ id   ┆ http ┆ mmap_eventname             ┆ mmap_url                  ┆ redirect                  │\n",
       "│ ---  ┆ ---  ┆ ---                        ┆ ---                       ┆ ---                       │\n",
       "│ i16  ┆ i16  ┆ str                        ┆ str                       ┆ str                       │\n",
       "╞══════╪══════╪════════════════════════════╪═══════════════════════════╪═══════════════════════════╡\n",
       "│ 4401 ┆ 200  ┆ Procrastination Station    ┆ https://www.myprocrastina ┆                           │\n",
       "│      ┆      ┆                            ┆ tionsta…                  ┆                           │\n",
       "│ 4397 ┆ 200  ┆ Minnesota Center for Book  ┆ https://www.mnbookarts.or ┆                           │\n",
       "│      ┆      ┆ Arts                       ┆ g/                        ┆                           │\n",
       "│ 4388 ┆ 301  ┆ FUSE Makerspace            ┆ https://www.fusemakerspac ┆ https://www.fusemakerspac │\n",
       "│      ┆      ┆                            ┆ e.org/                    ┆ e.org/s…                  │\n",
       "│ 4387 ┆ 301  ┆ FirstBuild                 ┆ https://www.firstbuild.co ┆ https://firstbuild.com/si │\n",
       "│      ┆      ┆                            ┆ m                         ┆ temap.x…                  │\n",
       "│ 4380 ┆ 200  ┆ Valley Makers Association  ┆ Https://www.valleymakers. ┆                           │\n",
       "│      ┆      ┆                            ┆ com                       ┆                           │\n",
       "│ …    ┆ …    ┆ …                          ┆ …                         ┆ …                         │\n",
       "│ 3337 ┆ 301  ┆ Cherokee Makerspace        ┆ https://cherokeemakerspac ┆ https://www.cherokeemaker │\n",
       "│      ┆      ┆                            ┆ e.org                     ┆ space.o…                  │\n",
       "│ 3333 ┆ 200  ┆ CREATE                     ┆ https://k5create.blogspot ┆                           │\n",
       "│      ┆      ┆                            ┆ .com                      ┆                           │\n",
       "│ 3316 ┆ 301  ┆ Lacey MakerSpace           ┆ https://www.laceymakerspa ┆ https://laceymakerspace.o │\n",
       "│      ┆      ┆                            ┆ ce.org                    ┆ rg/site…                  │\n",
       "│ 3308 ┆ 301  ┆ Bainbridge Artisans        ┆ https://bainbridgebarn.or ┆ https://bainbridgebarn.or │\n",
       "│      ┆      ┆ Resource Net…              ┆ g                         ┆ g/sitem…                  │\n",
       "│ 3304 ┆ 200  ┆ 510 Art Lab                ┆ https://www.510artlab.com ┆                           │\n",
       "└──────┴──────┴────────────────────────────┴───────────────────────────┴───────────────────────────┘"
      ]
     },
     "execution_count": 82,
     "metadata": {},
     "output_type": "execute_result"
    }
   ],
   "source": [
    "active_sitemaps = sitemaps_json.filter((pl.col(\"http\") >= 200) & (pl.col(\"http\") < 400))\n",
    "active_sitemaps[:, ['id', 'http', 'mmap_eventname', 'mmap_url', 'redirect']]\n",
    "\n",
    "# TODO add aliases where to help filter domain redirects"
   ]
  },
  {
   "cell_type": "code",
   "execution_count": 76,
   "id": "4d2f8779-7a26-4768-a42e-f7835a753cd6",
   "metadata": {},
   "outputs": [
    {
     "data": {
      "text/html": [
       "<div><style>\n",
       ".dataframe > thead > tr,\n",
       ".dataframe > tbody > tr {\n",
       "  text-align: right;\n",
       "  white-space: pre-wrap;\n",
       "}\n",
       "</style>\n",
       "<small>shape: (10, 2)</small><table border=\"1\" class=\"dataframe\"><thead><tr><th>http</th><th>len</th></tr><tr><td>i16</td><td>u32</td></tr></thead><tbody><tr><td>400</td><td>1</td></tr><tr><td>200</td><td>53</td></tr><tr><td>302</td><td>26</td></tr><tr><td>403</td><td>1</td></tr><tr><td>0</td><td>28</td></tr><tr><td>303</td><td>1</td></tr><tr><td>500</td><td>1</td></tr><tr><td>301</td><td>58</td></tr><tr><td>406</td><td>1</td></tr><tr><td>404</td><td>41</td></tr></tbody></table></div>"
      ],
      "text/plain": [
       "shape: (10, 2)\n",
       "┌──────┬─────┐\n",
       "│ http ┆ len │\n",
       "│ ---  ┆ --- │\n",
       "│ i16  ┆ u32 │\n",
       "╞══════╪═════╡\n",
       "│ 400  ┆ 1   │\n",
       "│ 200  ┆ 53  │\n",
       "│ 302  ┆ 26  │\n",
       "│ 403  ┆ 1   │\n",
       "│ 0    ┆ 28  │\n",
       "│ 303  ┆ 1   │\n",
       "│ 500  ┆ 1   │\n",
       "│ 301  ┆ 58  │\n",
       "│ 406  ┆ 1   │\n",
       "│ 404  ┆ 41  │\n",
       "└──────┴─────┘"
      ]
     },
     "execution_count": 76,
     "metadata": {},
     "output_type": "execute_result"
    }
   ],
   "source": [
    "sitemaps_by_response = sitemaps_json.group_by(pl.col('http'))\n",
    "sitemaps_by_response.agg(pl.all(),pl.len())[:, ['http','len']]"
   ]
  },
  {
   "cell_type": "markdown",
   "id": "30c25756-2a02-4d2a-81e0-7e8c31ada552",
   "metadata": {},
   "source": [
    "# Fetch Sitemaps\n",
    "\n",
    "## Dataframe"
   ]
  },
  {
   "cell_type": "code",
   "execution_count": 128,
   "id": "f3d41f4d-e254-4785-be49-4ab720080b71",
   "metadata": {},
   "outputs": [
    {
     "data": {
      "text/plain": [
       "<re.Match object; span=(0, 4), match='.xml'>"
      ]
     },
     "execution_count": 128,
     "metadata": {},
     "output_type": "execute_result"
    }
   ],
   "source": [
    "re.match(\".xml$\", \".xml\")"
   ]
  },
  {
   "cell_type": "code",
   "execution_count": 148,
   "id": "862867fb-1845-490c-9050-a6ab090265f8",
   "metadata": {},
   "outputs": [],
   "source": [
    "urls = map((lambda u: (u['id'], u['mmap_eventname'], u['redirect']\n",
    "                            if (len(u['redirect']) > 0) else f'{u['mmap_url']}/sitemap.xml')),\n",
    "    active_sitemaps.select(['id','mmap_eventname','redirect','mmap_url']).to_struct())\n",
    "urls = filter((lambda u: re.match(\".*.xml$\", u[2])), urls)\n",
    "# urls = filter((lambda u: len(u[2]) > 0), urls)\n",
    "urls = list(urls)"
   ]
  },
  {
   "cell_type": "code",
   "execution_count": null,
   "id": "80215473-a5a7-47be-b296-36cb5e04a6c3",
   "metadata": {
    "scrolled": true
   },
   "outputs": [],
   "source": [
    "dfs = []\n",
    "# df = adv.sitemap_to_df(urls[0][2])\n",
    "i = 0\n",
    "for u in list(urls):\n",
    "    df = adv.sitemap_to_df(u[2])\n",
    "    df.loc[:,'id'] = u[0]\n",
    "    dfs.append(df)\n",
    "    i += 1\n",
    "\n",
    "# TODO: refactor to handle 404's using with"
   ]
  },
  {
   "cell_type": "code",
   "execution_count": null,
   "id": "04b67e98-ac52-4066-a15f-f444e950a29e",
   "metadata": {},
   "outputs": [],
   "source": [
    "dfs = pd.concat(dfs)\n",
    "dfs = pl.from_pandas(dfs)"
   ]
  },
  {
   "cell_type": "code",
   "execution_count": null,
   "id": "acf7ee86-72f8-49cc-ad5c-449ffda6f69d",
   "metadata": {
    "scrolled": true
   },
   "outputs": [],
   "source": []
  },
  {
   "cell_type": "markdown",
   "id": "ec6dd13b-2c7d-47c3-821b-f6c881a99855",
   "metadata": {},
   "source": [
    "# Transform URLs\n",
    "\n",
    "urls need to be further destructured into a new dataframe that forms the basis of a graph\n",
    "\n",
    "+ [urlparse and RFC](https://stackoverflow.com/a/70329643)\n",
    "+ "
   ]
  },
  {
   "cell_type": "code",
   "execution_count": null,
   "id": "a67926dd-6a0d-4082-85ec-50f3aa1d7689",
   "metadata": {
    "scrolled": true
   },
   "outputs": [],
   "source": [
    "dfs"
   ]
  },
  {
   "cell_type": "code",
   "execution_count": null,
   "id": "64693899-3770-4a65-b87a-907613fd1176",
   "metadata": {},
   "outputs": [],
   "source": []
  }
 ],
 "metadata": {
  "kernelspec": {
   "display_name": "Python 3 (ipykernel)",
   "language": "python",
   "name": "python3"
  },
  "language_info": {
   "codemirror_mode": {
    "name": "ipython",
    "version": 3
   },
   "file_extension": ".py",
   "mimetype": "text/x-python",
   "name": "python",
   "nbconvert_exporter": "python",
   "pygments_lexer": "ipython3",
   "version": "3.12.1"
  }
 },
 "nbformat": 4,
 "nbformat_minor": 5
}
